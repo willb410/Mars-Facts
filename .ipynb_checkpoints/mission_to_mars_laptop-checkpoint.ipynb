{
 "cells": [
  {
   "cell_type": "code",
   "execution_count": 14,
   "metadata": {},
   "outputs": [],
   "source": [
    "# Dependencies\n",
    "from bs4 import BeautifulSoup\n",
    "import requests\n",
    "from splinter import Browser\n",
    "from splinter.exceptions import ElementDoesNotExist\n",
    "\n",
    "import pandas as pd"
   ]
  },
  {
   "cell_type": "markdown",
   "metadata": {},
   "source": [
    "# Scraping"
   ]
  },
  {
   "cell_type": "markdown",
   "metadata": {},
   "source": [
    "### Nasa Mars News"
   ]
  },
  {
   "cell_type": "code",
   "execution_count": 2,
   "metadata": {},
   "outputs": [],
   "source": [
    "# Retrieve html\n",
    "url = ('https://mars.nasa.gov/news/?page=0&per_page=40&order=publish_date+desc%2Ccreated_at+desc&search=&category=19%2C165%2C184%2C204&blank_scope=Latest')\n",
    "\n",
    "response = requests.get(url)\n",
    "soup = BeautifulSoup(response.text, 'html.parser')\n",
    "#print(soup.prettify())"
   ]
  },
  {
   "cell_type": "code",
   "execution_count": 3,
   "metadata": {},
   "outputs": [
    {
     "data": {
      "text/plain": [
       "[<div class=\"image_and_description_container\">\n",
       " <a href=\"/news/8387/nasa-announces-landing-site-for-mars-2020-rover/\">\n",
       " <div class=\"rollover_description\">\n",
       " <div class=\"rollover_description_inner\">\n",
       " After a five-year search, NASA has chosen Jezero Crater as the landing site for its upcoming Mars 2020 rover mission.\n",
       " </div>\n",
       " <div class=\"overlay_arrow\">\n",
       " <img alt=\"More\" src=\"/assets/overlay-arrow.png\"/>\n",
       " </div>\n",
       " </div>\n",
       " <img alt=\"NASA Announces Landing Site for Mars 2020 Rover\" class=\"img-lazy\" data-lazy=\"/system/news_items/list_view_images/8387_JezeroCrater-320x240.jpg\" src=\"/assets/loading_320x240.png\"/>\n",
       " </a>\n",
       " </div>, <div class=\"image_and_description_container\">\n",
       " <a href=\"/news/8348/opportunity-hunkers-down-during-dust-storm/\">\n",
       " <div class=\"rollover_description\">\n",
       " <div class=\"rollover_description_inner\">\n",
       " It's the beginning of the end for the planet-encircling dust storm on Mars. But it could still be weeks, or even months, before skies are clear enough for NASA's Opportunity rover to recharge its batteries and phone home. \n",
       " </div>\n",
       " <div class=\"overlay_arrow\">\n",
       " <img alt=\"More\" src=\"/assets/overlay-arrow.png\"/>\n",
       " </div>\n",
       " </div>\n",
       " <img alt=\"Opportunity Hunkers Down During Dust Storm\" class=\"img-lazy\" data-lazy=\"/system/news_items/list_view_images/8348_PIA22521-320.jpg\" src=\"/assets/loading_320x240.png\"/>\n",
       " </a>\n",
       " </div>, <div class=\"image_and_description_container\">\n",
       " <a href=\"/news/8347/nasa-finds-ancient-organic-material-mysterious-methane-on-mars/\">\n",
       " <div class=\"rollover_description\">\n",
       " <div class=\"rollover_description_inner\">\n",
       " NASA’s Curiosity rover has found evidence on Mars with implications for NASA’s search for life.\n",
       " </div>\n",
       " <div class=\"overlay_arrow\">\n",
       " <img alt=\"More\" src=\"/assets/overlay-arrow.png\"/>\n",
       " </div>\n",
       " </div>\n",
       " <img alt=\"NASA Finds Ancient Organic Material, Mysterious Methane on Mars\" class=\"img-lazy\" data-lazy=\"/system/news_items/list_view_images/8347_curiosity_methane-320.jpg\" src=\"/assets/loading_320x240.png\"/>\n",
       " </a>\n",
       " </div>, <div class=\"image_and_description_container\">\n",
       " <a href=\"/news/8326/nasa-invests-in-visionary-technology/\">\n",
       " <div class=\"rollover_description\">\n",
       " <div class=\"rollover_description_inner\">\n",
       " NASA is investing in technology concepts, including several from JPL, that may one day be used for future space exploration missions.\n",
       " </div>\n",
       " <div class=\"overlay_arrow\">\n",
       " <img alt=\"More\" src=\"/assets/overlay-arrow.png\"/>\n",
       " </div>\n",
       " </div>\n",
       " <img alt=\"NASA Invests in Visionary Technology \" class=\"img-lazy\" data-lazy=\"/system/news_items/list_view_images/8326_niac320.jpg\" src=\"/assets/loading_320x240.png\"/>\n",
       " </a>\n",
       " </div>, <div class=\"image_and_description_container\">\n",
       " <a href=\"/news/8325/nasa-is-ready-to-study-the-heart-of-mars/\">\n",
       " <div class=\"rollover_description\">\n",
       " <div class=\"rollover_description_inner\">\n",
       " NASA is about to go on a journey to study the center of Mars.\n",
       " </div>\n",
       " <div class=\"overlay_arrow\">\n",
       " <img alt=\"More\" src=\"/assets/overlay-arrow.png\"/>\n",
       " </div>\n",
       " </div>\n",
       " <img alt=\"NASA is Ready to Study the Heart of Mars\" class=\"img-lazy\" data-lazy=\"/system/news_items/list_view_images/8325_insight20180329b_320.jpg\" src=\"/assets/loading_320x240.png\"/>\n",
       " </a>\n",
       " </div>, <div class=\"image_and_description_container\">\n",
       " <a href=\"/news/8322/nasa-briefing-on-first-mission-to-study-mars-interior/\">\n",
       " <div class=\"rollover_description\">\n",
       " <div class=\"rollover_description_inner\">\n",
       " NASA’s next mission to Mars will be the topic of a media briefing Thursday, March 29, at JPL. The briefing will air live on NASA Television and the agency’s website.\n",
       " </div>\n",
       " <div class=\"overlay_arrow\">\n",
       " <img alt=\"More\" src=\"/assets/overlay-arrow.png\"/>\n",
       " </div>\n",
       " </div>\n",
       " <img alt=\"NASA Briefing on First Mission to Study Mars Interior\" class=\"img-lazy\" data-lazy=\"/system/news_items/list_view_images/8322_PIA22228_320.jpg\" src=\"/assets/loading_320x240.png\"/>\n",
       " </a>\n",
       " </div>]"
      ]
     },
     "execution_count": 3,
     "metadata": {},
     "output_type": "execute_result"
    }
   ],
   "source": [
    "results = soup.find_all('div', class_ = 'image_and_description_container')\n",
    "results"
   ]
  },
  {
   "cell_type": "code",
   "execution_count": null,
   "metadata": {},
   "outputs": [],
   "source": []
  },
  {
   "cell_type": "code",
   "execution_count": 4,
   "metadata": {},
   "outputs": [
    {
     "name": "stdout",
     "output_type": "stream",
     "text": [
      "'NoneType' object has no attribute 'text'\n",
      "'NoneType' object has no attribute 'text'\n",
      "'NoneType' object has no attribute 'text'\n",
      "'NoneType' object has no attribute 'text'\n",
      "'NoneType' object has no attribute 'text'\n",
      "'NoneType' object has no attribute 'text'\n"
     ]
    }
   ],
   "source": [
    "for result in results:\n",
    "    # Error handling\n",
    "    try:\n",
    "        news_title = result.find('a', class_ = 'content_title').text\n",
    "        news_p = result.find('div', class_ = 'rollover_description_inner').text\n",
    "        \n",
    "\n",
    "        # Print results only if title, price, and link are available\n",
    "        if (news_title and news_p):\n",
    "            print('-------------')\n",
    "            print(news_title)\n",
    "            print(news_p)\n",
    "    except AttributeError as e:\n",
    "        print(e)"
   ]
  },
  {
   "cell_type": "markdown",
   "metadata": {},
   "source": [
    "### JPL Mars Space Images - Featured Image"
   ]
  },
  {
   "cell_type": "code",
   "execution_count": 28,
   "metadata": {},
   "outputs": [],
   "source": [
    "executable_path = {'executable_path': 'chromedriver.exe'}\n",
    "browser = Browser('chrome', **executable_path, headless=False)"
   ]
  },
  {
   "cell_type": "code",
   "execution_count": 29,
   "metadata": {},
   "outputs": [],
   "source": [
    "url = 'https://www.jpl.nasa.gov/spaceimages/?search=&category=Mars'\n",
    "browser.visit(url)"
   ]
  },
  {
   "cell_type": "code",
   "execution_count": 30,
   "metadata": {},
   "outputs": [
    {
     "name": "stdout",
     "output_type": "stream",
     "text": [
      "/assets/images/logo_nasa_trio_black@2x.png\n",
      "/assets/images/logo_nasa_trio_black@2x.png\n",
      "/assets/images/overlay-arrow.png\n",
      "/spaceimages/images/wallpaper/PIA22878-640x350.jpg\n",
      "/assets/images/overlay-arrow.png\n",
      "/spaceimages/images/wallpaper/PIA22877-640x350.jpg\n",
      "/assets/images/overlay-arrow.png\n",
      "/spaceimages/images/wallpaper/PIA22875-640x350.jpg\n",
      "/assets/images/overlay-arrow.png\n",
      "/spaceimages/images/wallpaper/PIA22876-640x350.jpg\n",
      "/assets/images/overlay-arrow.png\n",
      "/spaceimages/images/wallpaper/PIA22874-640x350.jpg\n",
      "/assets/images/overlay-arrow.png\n",
      "/spaceimages/images/wallpaper/PIA22898-640x350.jpg\n",
      "/assets/images/overlay-arrow.png\n",
      "/spaceimages/images/wallpaper/PIA22897-640x350.jpg\n",
      "/assets/images/overlay-arrow.png\n",
      "/spaceimages/images/wallpaper/PIA22896-640x350.jpg\n",
      "/assets/images/overlay-arrow.png\n",
      "/spaceimages/images/wallpaper/PIA22895-640x350.jpg\n",
      "/assets/images/overlay-arrow.png\n",
      "/spaceimages/images/wallpaper/PIA22888-640x350.jpg\n",
      "/assets/images/overlay-arrow.png\n",
      "/spaceimages/images/wallpaper/PIA22887-640x350.jpg\n",
      "/assets/images/overlay-arrow.png\n",
      "/spaceimages/images/wallpaper/PIA22655-640x350.jpg\n",
      "/assets/images/overlay-arrow.png\n",
      "/spaceimages/images/wallpaper/PIA22873-640x350.jpg\n",
      "/assets/images/overlay-arrow.png\n",
      "/spaceimages/images/wallpaper/PIA22872-640x350.jpg\n",
      "/assets/images/overlay-arrow.png\n",
      "/spaceimages/images/wallpaper/PIA22871-640x350.jpg\n",
      "/assets/images/overlay-arrow.png\n",
      "/spaceimages/images/wallpaper/PIA22885-640x350.jpg\n",
      "/assets/images/overlay-arrow.png\n",
      "/spaceimages/images/wallpaper/PIA22884-640x350.jpg\n",
      "/assets/images/overlay-arrow.png\n",
      "/spaceimages/images/wallpaper/PIA22883-640x350.jpg\n",
      "/assets/images/overlay-arrow.png\n",
      "/spaceimages/images/wallpaper/PIA22882-640x350.jpg\n",
      "/assets/images/overlay-arrow.png\n",
      "/spaceimages/images/wallpaper/PIA22893-640x350.jpg\n",
      "/assets/images/overlay-arrow.png\n",
      "/spaceimages/images/wallpaper/PIA22892-640x350.jpg\n",
      "/assets/images/overlay-arrow.png\n",
      "/spaceimages/images/wallpaper/PIA22834-640x350.jpg\n",
      "/assets/images/overlay-arrow.png\n",
      "/spaceimages/images/wallpaper/PIA22832-640x350.jpg\n",
      "/assets/images/overlay-arrow.png\n",
      "/spaceimages/images/wallpaper/PIA22831-640x350.jpg\n",
      "/assets/images/overlay-arrow.png\n",
      "/spaceimages/images/wallpaper/PIA22860-640x350.jpg\n",
      "/assets/images/overlay-arrow.png\n",
      "/spaceimages/images/wallpaper/PIA22859-640x350.jpg\n",
      "/assets/images/overlay-arrow.png\n",
      "/spaceimages/images/wallpaper/PIA22858-640x350.jpg\n",
      "/assets/images/overlay-arrow.png\n",
      "/spaceimages/images/wallpaper/PIA22870-640x350.jpg\n",
      "/assets/images/overlay-arrow.png\n",
      "/spaceimages/images/wallpaper/PIA22869-640x350.jpg\n",
      "/assets/images/overlay-arrow.png\n",
      "/spaceimages/images/wallpaper/PIA22868-640x350.jpg\n",
      "/assets/images/overlay-arrow.png\n",
      "/spaceimages/images/wallpaper/PIA22867-640x350.jpg\n",
      "/assets/images/overlay-arrow.png\n",
      "/spaceimages/images/wallpaper/PIA22857-640x350.jpg\n",
      "/assets/images/content/tmp/images/jpl_photojournal(3x1).jpg\n",
      "/assets/images/content/tmp/images/nasa_images(3x1).jpg\n",
      "/assets/images/overlay-arrow.png\n",
      "//imagecache.jpl.nasa.gov/images/640x350/PIA22875-16-640x350.jpg\n",
      "/assets/images/overlay-arrow.png\n",
      "//imagecache.jpl.nasa.gov/images/640x350/PIA22937-16-640x350.jpg\n",
      "/assets/images/overlay-arrow.png\n",
      "//imagecache.jpl.nasa.gov/images/640x350/PIA22876-16-640x350.jpg\n"
     ]
    }
   ],
   "source": [
    "html = browser.html\n",
    "soup = BeautifulSoup(html, 'html.parser')\n",
    "\n",
    "browser.click_link_by_id('full_image')\n",
    "images = soup.find_all('img')\n",
    "for image in images:\n",
    "    print(image['src'])"
   ]
  },
  {
   "cell_type": "code",
   "execution_count": null,
   "metadata": {},
   "outputs": [],
   "source": []
  },
  {
   "cell_type": "markdown",
   "metadata": {},
   "source": [
    "### Mars Weather"
   ]
  },
  {
   "cell_type": "code",
   "execution_count": 8,
   "metadata": {},
   "outputs": [],
   "source": [
    "# Scrape html from Mars Weather Twitter account\n",
    "url = ('https://twitter.com/marswxreport?lang=en')\n",
    "\n",
    "response = requests.get(url)\n",
    "soup = BeautifulSoup(response.text, 'html.parser')"
   ]
  },
  {
   "cell_type": "code",
   "execution_count": 10,
   "metadata": {},
   "outputs": [
    {
     "data": {
      "text/plain": [
       "'The InSight lander, discarded heatshield, back shell and parachute have been spotted from orbit by the @HiRISE camera aboard the Mars Reconnaissance Orbiter  https://www.uahirise.org/releases/insight/hardware/\\xa0…pic.twitter.com/6BM7QMWrU4'"
      ]
     },
     "execution_count": 10,
     "metadata": {},
     "output_type": "execute_result"
    }
   ],
   "source": [
    "# Pull text from latest tweet (maybe change to prior tweet with actual weather)\n",
    "mars_tweet = soup.find('p', class_ = 'tweet-text').text\n",
    "mars_tweet"
   ]
  },
  {
   "cell_type": "markdown",
   "metadata": {},
   "source": [
    "### Mars Facts"
   ]
  },
  {
   "cell_type": "code",
   "execution_count": 12,
   "metadata": {},
   "outputs": [],
   "source": [
    "url = ('https://space-facts.com/mars/')\n",
    "\n",
    "response = requests.get(url)\n",
    "soup = BeautifulSoup(response.text, 'html.parser')\n",
    "#soup.prettify()"
   ]
  },
  {
   "cell_type": "code",
   "execution_count": 22,
   "metadata": {},
   "outputs": [
    {
     "data": {
      "text/plain": [
       "'<table border=\"1\" class=\"dataframe\">  <thead>    <tr style=\"text-align: right;\">      <th></th>      <th>0</th>      <th>1</th>    </tr>  </thead>  <tbody>    <tr>      <th>0</th>      <td>Equatorial Diameter:</td>      <td>6,792 km</td>    </tr>    <tr>      <th>1</th>      <td>Polar Diameter:</td>      <td>6,752 km</td>    </tr>    <tr>      <th>2</th>      <td>Mass:</td>      <td>6.42 x 10^23 kg (10.7% Earth)</td>    </tr>    <tr>      <th>3</th>      <td>Moons:</td>      <td>2 (Phobos &amp; Deimos)</td>    </tr>    <tr>      <th>4</th>      <td>Orbit Distance:</td>      <td>227,943,824 km (1.52 AU)</td>    </tr>    <tr>      <th>5</th>      <td>Orbit Period:</td>      <td>687 days (1.9 years)</td>    </tr>    <tr>      <th>6</th>      <td>Surface Temperature:</td>      <td>-153 to 20 °C</td>    </tr>    <tr>      <th>7</th>      <td>First Record:</td>      <td>2nd millennium BC</td>    </tr>    <tr>      <th>8</th>      <td>Recorded By:</td>      <td>Egyptian astronomers</td>    </tr>  </tbody></table>'"
      ]
     },
     "execution_count": 22,
     "metadata": {},
     "output_type": "execute_result"
    }
   ],
   "source": [
    "mars_facts_df = pd.read_html(url)\n",
    "mars_facts_df = mars_facts_df[0]\n",
    "mars_facts_html = mars_facts_df.to_html()\n",
    "mars_facts_html = mars_facts_html.replace('\\n', '')\n",
    "mars_facts_html"
   ]
  },
  {
   "cell_type": "markdown",
   "metadata": {},
   "source": [
    "### Mars Hemispheres"
   ]
  },
  {
   "cell_type": "code",
   "execution_count": 23,
   "metadata": {},
   "outputs": [],
   "source": [
    "Cerberus = 'https://astrogeology.usgs.gov/cache/images/cfa62af2557222a02478f1fcd781d445_cerberus_enhanced.tif_full.jpg'\n",
    "Schiaparelli = 'https://astrogeology.usgs.gov/cache/images/3cdd1cbf5e0813bba925c9030d13b62e_schiaparelli_enhanced.tif_full.jpg'\n",
    "Syrtis_Major = 'https://astrogeology.usgs.gov/cache/images/ae209b4e408bb6c3e67b6af38168cf28_syrtis_major_enhanced.tif_full.jpg'\n",
    "Valles_Marineris = 'https://astrogeology.usgs.gov/search/map/Mars/Viking/valles_marineris_enhanced'\n",
    "\n",
    "hemisphere_image_urls = [{'title':'Cerberus Hemisphere', 'img_url':Cerberus}, \n",
    "                         {'title':'Schiaparelli Hemisphere', 'img_url':Schiaparelli}, \n",
    "                         {'title':'Syrtis Major Hemisphere', 'img_url':Syrtis_Major}, \n",
    "                         {'title':'Valles Marineris Hemisphere', 'img_url':Valles_Marineris} \n",
    "                        ]"
   ]
  },
  {
   "cell_type": "code",
   "execution_count": null,
   "metadata": {},
   "outputs": [],
   "source": []
  }
 ],
 "metadata": {
  "kernelspec": {
   "display_name": "Python 3",
   "language": "python",
   "name": "python3"
  },
  "language_info": {
   "codemirror_mode": {
    "name": "ipython",
    "version": 3
   },
   "file_extension": ".py",
   "mimetype": "text/x-python",
   "name": "python",
   "nbconvert_exporter": "python",
   "pygments_lexer": "ipython3",
   "version": "3.6.5"
  }
 },
 "nbformat": 4,
 "nbformat_minor": 2
}
